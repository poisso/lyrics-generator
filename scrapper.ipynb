{
 "cells": [
  {
   "cell_type": "code",
   "execution_count": 66,
   "metadata": {},
   "outputs": [],
   "source": [
    "import requests\n",
    "from bs4 import BeautifulSoup\n",
    "import re\n",
    "import numpy as np\n",
    "import time\n",
    "import os"
   ]
  },
  {
   "cell_type": "code",
   "execution_count": 56,
   "metadata": {},
   "outputs": [],
   "source": [
    "def wait_with_non_gaussian_distribution():\n",
    "    mean_wait_time = 8.0  # Mean wait time in seconds\n",
    "    scale_parameter = 3.0  # Scale parameter for the exponential distribution\n",
    "    \n",
    "    wait_time = np.random.exponential(scale=scale_parameter) + mean_wait_time\n",
    "    \n",
    "    time.sleep(wait_time)"
   ]
  },
  {
   "cell_type": "code",
   "execution_count": 64,
   "metadata": {},
   "outputs": [],
   "source": [
    "\n",
    "\n",
    "def get_artist_page(artist_name):\n",
    "    base_url = 'https://www.azlyrics.com/'\n",
    "    first_letter = artist_name[0].lower()\n",
    "    artist_url = f\"\"\"{base_url}{first_letter}/{artist_name.replace(' ', '').lower()}.html\"\"\"\n",
    "\n",
    "    response = requests.get(artist_url)\n",
    "    if response.status_code == 200:\n",
    "        return response.text\n",
    "    else:\n",
    "        print(f\"Failed to fetch artist page. Status code: {response.status_code}\")\n",
    "        return None\n",
    "\n",
    "def scrape_lyrics(artist_name):\n",
    "    lyrics_dict = {}\n",
    "    artist_page = get_artist_page(artist_name)\n",
    "    artist_name = artist_name.replace(' ', '').lower()\n",
    "    if artist_page:\n",
    "        soup = BeautifulSoup(artist_page, 'html.parser')\n",
    "\n",
    "        album_items = soup.find_all('div', class_='listalbum-item')\n",
    "\n",
    "        lyrics = ''\n",
    "        for album_item in album_items:\n",
    "            if len(album_item.find_all('a', href=True)) > 0:\n",
    "                song_link = album_item.find_all('a', href=True)[0]\n",
    "                song_name = re.findall(r'/(?P<content>[^/]+)\\.html', song_link['href'])[0]\n",
    "                song_url = f'https://www.azlyrics.com{song_link[\"href\"]}'\n",
    "                wait_with_non_gaussian_distribution()\n",
    "                song_page = requests.get(song_url).text\n",
    "                song_soup = BeautifulSoup(song_page, 'html.parser')\n",
    "                \n",
    "                lyrics_element = song_soup.find('div', class_='container main-page')\n",
    "\n",
    "                if lyrics_element:\n",
    "                    lyrics += lyrics_element.get_text(separator='\\n') + '\\n'\n",
    "                    \n",
    "                lyrics = cleaned_text = re.sub('\\n+', '\\n', lyrics)\n",
    "            \n",
    "                lyrics_dict[song_name] = lyrics\n",
    "\n",
    "            \n",
    "        return lyrics_dict\n",
    "    else:\n",
    "        return None\n",
    "\n",
    "artist_name = 'men I trust'\n",
    "lyrics = scrape_lyrics(artist_name)\n",
    "\n"
   ]
  },
  {
   "cell_type": "code",
   "execution_count": 65,
   "metadata": {},
   "outputs": [
    {
     "data": {
      "text/plain": [
       "dict_keys(['acycle', 'dazed', 'staytrue', 'aprayer', 'system', 'endlessstrive', 'extaticmemoirs', 'introit', 'aclosingword', 'morsecode', 'breakforlovers', 'outinmyself', 'again', 'quiet', 'curiousfish', 'offertorio', 'plainview', 'hummingman', 'lauren', 'aquarelle', 'onclejazz', 'nortoncommanderalbumv', 'daysgoby', 'tailwhipalbumv', 'foundme', 'numbalbumv', 'saycanyouhearalbumv', 'allnight', 'ihopetobearoundalbumv', 'dorian', 'pines', 'fierogt', 'sevenalbumv', 'showmehowalbumv', 'alright', 'youdeservethisalbumv', 'pierre', 'air', 'porcelain', 'somethinginwater', 'organon', 'ohdove', 'sugar', 'sorbitol', 'treeamongshrubs', 'serenadeofwater', '5amwaltz', 'alwayslone', 'antemeridiem', 'lifelongsong', 'shoulders', 'blackholeera', 'billietoppy', 'girl', 'hardtoletgo', 'ihopetobearound', 'luckysue', 'nortoncommanderallweneed', 'numb', 'ringofpast', 'saycanyouhear', 'seven', 'showmehow', 'tailwhip', 'tides', 'youdeservethis'])"
      ]
     },
     "execution_count": 65,
     "metadata": {},
     "output_type": "execute_result"
    }
   ],
   "source": [
    "lyrics.keys()"
   ]
  },
  {
   "cell_type": "code",
   "execution_count": 67,
   "metadata": {},
   "outputs": [],
   "source": [
    "def write_songs_to_files(song_dict, output_directory):\n",
    "    if not os.path.exists(output_directory):\n",
    "        os.makedirs(output_directory)\n",
    "\n",
    "    for song_name, song_lyrics in song_dict.items():\n",
    "        file_path = os.path.join(output_directory, f\"{song_name}.txt\")\n",
    "\n",
    "        with open(file_path, 'w', encoding='utf-8') as file:\n",
    "            file.write(song_lyrics)"
   ]
  },
  {
   "cell_type": "code",
   "execution_count": 68,
   "metadata": {},
   "outputs": [],
   "source": [
    "write_songs_to_files(lyrics, f\"lyrics_data/{artist_name.replace(' ',  '_').lower()}\")"
   ]
  }
 ],
 "metadata": {
  "kernelspec": {
   "display_name": "lyrics-gen-venv",
   "language": "python",
   "name": "python3"
  },
  "language_info": {
   "codemirror_mode": {
    "name": "ipython",
    "version": 3
   },
   "file_extension": ".py",
   "mimetype": "text/x-python",
   "name": "python",
   "nbconvert_exporter": "python",
   "pygments_lexer": "ipython3",
   "version": "3.10.12"
  }
 },
 "nbformat": 4,
 "nbformat_minor": 2
}
